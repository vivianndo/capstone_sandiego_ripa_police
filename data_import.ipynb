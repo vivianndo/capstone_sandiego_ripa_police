{
 "cells": [
  {
   "cell_type": "code",
   "execution_count": 23,
   "metadata": {},
   "outputs": [],
   "source": [
    "import pandas as pd"
   ]
  },
  {
   "cell_type": "markdown",
   "metadata": {},
   "source": [
    "* All data obtained from data.sandiego.gov\n",
    "\n",
    "* Data collected according to requirements set forth in Government Code section 12525.5 that was enacted as a result of the Racial and Identity Profiling Act of 2015 (AB 953), also known as RIPA. \n",
    "\n",
    "* Data collection began on July 1, 2018, details all stopped conducted by San Diego Police Department\n",
    "\n",
    "* Includes (data.sandiego.gov, 2023): \n",
    "    * Stop details including stop date, time, duration and location, and other details about the person(s) stopped \n",
    "    * The primary reason the person(s) was stopped\n",
    "    * The gender of person(s) stopped, as perceived by the officer conducting the stop\n",
    "    * The race of persons stopped, as perceived by the officer conducting the stop\n",
    "    * Whether person(s) stopped displayed signs of deafness, speech impairment, blindness, a mental health condition, intellectual or developmental disability, or another disability categorized as “other\"\n",
    "    * Actions an officer took toward person(s) stopped\n",
    "    * The basis for any search conducted as part of stop \n",
    "    * Contraband or evidence found\n",
    "    * Basis for seizing property\n",
    "    * Type of property seized\n",
    "    * The outcome(s) of a stop \n",
    "\n",
    "* Each stop is identified by a unique `stop_id` field and the person(s) stopped is identified by the `pid` field. These fields will be used to join all data files into one all encompassing DataFrame\n",
    "\n"
   ]
  },
  {
   "cell_type": "code",
   "execution_count": 24,
   "metadata": {},
   "outputs": [],
   "source": [
    "# read in data\n",
    "df1 = pd.read_csv('datasd_ripa/ripa_stops_datasd.csv', low_memory=False)\n",
    "df2 = pd.read_csv('datasd_ripa/ripa_stop_reason_datasd.csv', low_memory=False)\n",
    "df3 = pd.read_csv('datasd_ripa/ripa_gender_datasd.csv')\n",
    "df4 = pd.read_csv('datasd_ripa/ripa_race_datasd.csv')\n",
    "df5 = pd.read_csv('datasd_ripa/ripa_disability_datasd.csv')\n",
    "df6 = pd.read_csv('datasd_ripa/ripa_actions_taken_datasd.csv')\n",
    "df7 = pd.read_csv('datasd_ripa/ripa_search_basis_datasd.csv')\n",
    "df8 = pd.read_csv('datasd_ripa/ripa_contraband_evid_datasd.csv')\n",
    "df9 = pd.read_csv('datasd_ripa/ripa_prop_seize_basis_datasd.csv')\n",
    "df10 = pd.read_csv('datasd_ripa/ripa_prop_seize_type_datasd.csv')\n",
    "df11 = pd.read_csv('datasd_ripa/ripa_stop_result_datasd.csv', low_memory=False)\n"
   ]
  },
  {
   "cell_type": "code",
   "execution_count": 25,
   "metadata": {},
   "outputs": [],
   "source": [
    "# merge dataframes using `pid` and `stop_id`\n",
    "df = df1 \n",
    "for i in range(2, 12):\n",
    "    df = pd.merge(df, globals()[f'df{i}'], on=['stop_id','pid'], how='outer')\n",
    "    "
   ]
  },
  {
   "cell_type": "code",
   "execution_count": 26,
   "metadata": {},
   "outputs": [
    {
     "data": {
      "text/plain": [
       "3053763"
      ]
     },
     "execution_count": 26,
     "metadata": {},
     "output_type": "execute_result"
    }
   ],
   "source": [
    "na_rows = df[df.isna().all(axis=1)]\n",
    "df = df.drop(na_rows.index)\n",
    "len(df)"
   ]
  },
  {
   "cell_type": "code",
   "execution_count": 27,
   "metadata": {},
   "outputs": [
    {
     "data": {
      "text/plain": [
       "Index(['stop_id', 'ori', 'agency', 'exp_years', 'date_stop', 'time_stop',\n",
       "       'stopduration', 'stop_in_response_to_cfs', 'officer_assignment_key',\n",
       "       'assignment', 'intersection', 'address_block', 'land_mark',\n",
       "       'address_street', 'highway_exit', 'isschool', 'school_name',\n",
       "       'address_city', 'beat', 'beat_name', 'pid', 'isstudent',\n",
       "       'perceived_limited_english', 'perceived_age', 'perceived_gender',\n",
       "       'gender_nonconforming', 'gend', 'gend_nc', 'perceived_lgbt',\n",
       "       'reason_for_stop', 'reason_for_stopcode', 'reason_for_stop_code_text',\n",
       "       'reason_for_stop_detail', 'reason_for_stop_explanation', 'gender',\n",
       "       'race', 'disability', 'action', 'consented', 'basis_for_search',\n",
       "       'basis_for_search_explanation', 'contraband', 'basisforpropertyseizure',\n",
       "       'type_of_property_seized', 'resultkey', 'result', 'code', 'resulttext',\n",
       "       'unnamed: 0', 'unnamed: 1', 'unnamed: 2', 'unnamed: 3', 'unnamed: 4',\n",
       "       'unnamed: 5'],\n",
       "      dtype='object')"
      ]
     },
     "execution_count": 27,
     "metadata": {},
     "output_type": "execute_result"
    }
   ],
   "source": [
    "df.columns"
   ]
  },
  {
   "cell_type": "code",
   "execution_count": 28,
   "metadata": {},
   "outputs": [],
   "source": [
    "# move pid to second column \n",
    "df.insert(1, 'pid', df.pop('pid'))"
   ]
  },
  {
   "cell_type": "code",
   "execution_count": 29,
   "metadata": {},
   "outputs": [
    {
     "data": {
      "text/html": [
       "<div>\n",
       "<style scoped>\n",
       "    .dataframe tbody tr th:only-of-type {\n",
       "        vertical-align: middle;\n",
       "    }\n",
       "\n",
       "    .dataframe tbody tr th {\n",
       "        vertical-align: top;\n",
       "    }\n",
       "\n",
       "    .dataframe thead th {\n",
       "        text-align: right;\n",
       "    }\n",
       "</style>\n",
       "<table border=\"1\" class=\"dataframe\">\n",
       "  <thead>\n",
       "    <tr style=\"text-align: right;\">\n",
       "      <th></th>\n",
       "      <th>stop_id</th>\n",
       "      <th>pid</th>\n",
       "      <th>ori</th>\n",
       "      <th>agency</th>\n",
       "      <th>exp_years</th>\n",
       "      <th>date_stop</th>\n",
       "      <th>time_stop</th>\n",
       "      <th>stopduration</th>\n",
       "      <th>stop_in_response_to_cfs</th>\n",
       "      <th>officer_assignment_key</th>\n",
       "      <th>...</th>\n",
       "      <th>resultkey</th>\n",
       "      <th>result</th>\n",
       "      <th>code</th>\n",
       "      <th>resulttext</th>\n",
       "      <th>unnamed: 0</th>\n",
       "      <th>unnamed: 1</th>\n",
       "      <th>unnamed: 2</th>\n",
       "      <th>unnamed: 3</th>\n",
       "      <th>unnamed: 4</th>\n",
       "      <th>unnamed: 5</th>\n",
       "    </tr>\n",
       "  </thead>\n",
       "  <tbody>\n",
       "    <tr>\n",
       "      <th>0</th>\n",
       "      <td>2443.0</td>\n",
       "      <td>1.0</td>\n",
       "      <td>CA0371100</td>\n",
       "      <td>SD</td>\n",
       "      <td>10.0</td>\n",
       "      <td>2018-07-01</td>\n",
       "      <td>00:01:37</td>\n",
       "      <td>30.0</td>\n",
       "      <td>0.0</td>\n",
       "      <td>1.0</td>\n",
       "      <td>...</td>\n",
       "      <td>6.0</td>\n",
       "      <td>Custodial Arrest without warrant</td>\n",
       "      <td>64005.0</td>\n",
       "      <td>647(F) PC - DISORD CONDUCT:ALCOHOL (M) 64005</td>\n",
       "      <td>NaN</td>\n",
       "      <td>NaN</td>\n",
       "      <td>NaN</td>\n",
       "      <td>NaN</td>\n",
       "      <td>NaN</td>\n",
       "      <td>NaN</td>\n",
       "    </tr>\n",
       "    <tr>\n",
       "      <th>1</th>\n",
       "      <td>2444.0</td>\n",
       "      <td>1.0</td>\n",
       "      <td>CA0371100</td>\n",
       "      <td>SD</td>\n",
       "      <td>18.0</td>\n",
       "      <td>2018-07-01</td>\n",
       "      <td>00:03:34</td>\n",
       "      <td>10.0</td>\n",
       "      <td>0.0</td>\n",
       "      <td>1.0</td>\n",
       "      <td>...</td>\n",
       "      <td>2.0</td>\n",
       "      <td>Warning (verbal or written)</td>\n",
       "      <td>54395.0</td>\n",
       "      <td>22349(B) VC - EXC 55MPH SPEED:2 LANE RD (I) 54395</td>\n",
       "      <td>NaN</td>\n",
       "      <td>NaN</td>\n",
       "      <td>NaN</td>\n",
       "      <td>NaN</td>\n",
       "      <td>NaN</td>\n",
       "      <td>NaN</td>\n",
       "    </tr>\n",
       "    <tr>\n",
       "      <th>2</th>\n",
       "      <td>2447.0</td>\n",
       "      <td>1.0</td>\n",
       "      <td>CA0371100</td>\n",
       "      <td>SD</td>\n",
       "      <td>1.0</td>\n",
       "      <td>2018-07-01</td>\n",
       "      <td>00:05:43</td>\n",
       "      <td>15.0</td>\n",
       "      <td>1.0</td>\n",
       "      <td>10.0</td>\n",
       "      <td>...</td>\n",
       "      <td>1.0</td>\n",
       "      <td>No Action</td>\n",
       "      <td>NaN</td>\n",
       "      <td>NaN</td>\n",
       "      <td>NaN</td>\n",
       "      <td>NaN</td>\n",
       "      <td>NaN</td>\n",
       "      <td>NaN</td>\n",
       "      <td>NaN</td>\n",
       "      <td>NaN</td>\n",
       "    </tr>\n",
       "    <tr>\n",
       "      <th>3</th>\n",
       "      <td>2447.0</td>\n",
       "      <td>2.0</td>\n",
       "      <td>CA0371100</td>\n",
       "      <td>SD</td>\n",
       "      <td>1.0</td>\n",
       "      <td>2018-07-01</td>\n",
       "      <td>00:05:43</td>\n",
       "      <td>15.0</td>\n",
       "      <td>1.0</td>\n",
       "      <td>10.0</td>\n",
       "      <td>...</td>\n",
       "      <td>1.0</td>\n",
       "      <td>No Action</td>\n",
       "      <td>NaN</td>\n",
       "      <td>NaN</td>\n",
       "      <td>NaN</td>\n",
       "      <td>NaN</td>\n",
       "      <td>NaN</td>\n",
       "      <td>NaN</td>\n",
       "      <td>NaN</td>\n",
       "      <td>NaN</td>\n",
       "    </tr>\n",
       "    <tr>\n",
       "      <th>4</th>\n",
       "      <td>2448.0</td>\n",
       "      <td>1.0</td>\n",
       "      <td>CA0371100</td>\n",
       "      <td>SD</td>\n",
       "      <td>3.0</td>\n",
       "      <td>2018-07-01</td>\n",
       "      <td>00:19:06</td>\n",
       "      <td>5.0</td>\n",
       "      <td>0.0</td>\n",
       "      <td>1.0</td>\n",
       "      <td>...</td>\n",
       "      <td>1.0</td>\n",
       "      <td>No Action</td>\n",
       "      <td>NaN</td>\n",
       "      <td>NaN</td>\n",
       "      <td>NaN</td>\n",
       "      <td>NaN</td>\n",
       "      <td>NaN</td>\n",
       "      <td>NaN</td>\n",
       "      <td>NaN</td>\n",
       "      <td>NaN</td>\n",
       "    </tr>\n",
       "  </tbody>\n",
       "</table>\n",
       "<p>5 rows × 54 columns</p>\n",
       "</div>"
      ],
      "text/plain": [
       "   stop_id  pid        ori agency  exp_years   date_stop time_stop  \\\n",
       "0   2443.0  1.0  CA0371100     SD       10.0  2018-07-01  00:01:37   \n",
       "1   2444.0  1.0  CA0371100     SD       18.0  2018-07-01  00:03:34   \n",
       "2   2447.0  1.0  CA0371100     SD        1.0  2018-07-01  00:05:43   \n",
       "3   2447.0  2.0  CA0371100     SD        1.0  2018-07-01  00:05:43   \n",
       "4   2448.0  1.0  CA0371100     SD        3.0  2018-07-01  00:19:06   \n",
       "\n",
       "   stopduration  stop_in_response_to_cfs  officer_assignment_key  ...  \\\n",
       "0          30.0                      0.0                     1.0  ...   \n",
       "1          10.0                      0.0                     1.0  ...   \n",
       "2          15.0                      1.0                    10.0  ...   \n",
       "3          15.0                      1.0                    10.0  ...   \n",
       "4           5.0                      0.0                     1.0  ...   \n",
       "\n",
       "  resultkey                            result     code  \\\n",
       "0       6.0  Custodial Arrest without warrant  64005.0   \n",
       "1       2.0       Warning (verbal or written)  54395.0   \n",
       "2       1.0                         No Action      NaN   \n",
       "3       1.0                         No Action      NaN   \n",
       "4       1.0                         No Action      NaN   \n",
       "\n",
       "                                          resulttext unnamed: 0 unnamed: 1  \\\n",
       "0       647(F) PC - DISORD CONDUCT:ALCOHOL (M) 64005        NaN        NaN   \n",
       "1  22349(B) VC - EXC 55MPH SPEED:2 LANE RD (I) 54395        NaN        NaN   \n",
       "2                                                NaN        NaN        NaN   \n",
       "3                                                NaN        NaN        NaN   \n",
       "4                                                NaN        NaN        NaN   \n",
       "\n",
       "   unnamed: 2 unnamed: 3 unnamed: 4  unnamed: 5  \n",
       "0         NaN        NaN        NaN         NaN  \n",
       "1         NaN        NaN        NaN         NaN  \n",
       "2         NaN        NaN        NaN         NaN  \n",
       "3         NaN        NaN        NaN         NaN  \n",
       "4         NaN        NaN        NaN         NaN  \n",
       "\n",
       "[5 rows x 54 columns]"
      ]
     },
     "execution_count": 29,
     "metadata": {},
     "output_type": "execute_result"
    }
   ],
   "source": [
    "df.head(5)"
   ]
  },
  {
   "cell_type": "code",
   "execution_count": 30,
   "metadata": {},
   "outputs": [
    {
     "name": "stdout",
     "output_type": "stream",
     "text": [
      "Number of observations: 3053763\n",
      "Total stops: 645338\n",
      "Total persons stopped: 645390\n"
     ]
    }
   ],
   "source": [
    "# after the merge, there are > 3 million rows\n",
    "print('Number of observations:', len(df))\n",
    "print('Total stops:', df['stop_id'].nunique())\n",
    "print('Total persons stopped:', df[['stop_id','pid']].nunique().sum())"
   ]
  },
  {
   "cell_type": "code",
   "execution_count": 31,
   "metadata": {},
   "outputs": [
    {
     "data": {
      "text/plain": [
       "False    3053763\n",
       "Name: count, dtype: int64"
      ]
     },
     "execution_count": 31,
     "metadata": {},
     "output_type": "execute_result"
    }
   ],
   "source": [
    "# no duplicated rows\n",
    "df.duplicated().value_counts()"
   ]
  },
  {
   "cell_type": "code",
   "execution_count": 32,
   "metadata": {},
   "outputs": [
    {
     "data": {
      "text/plain": [
       "stop_id                         0.009233\n",
       "pid                             0.009233\n",
       "ori                             0.009233\n",
       "agency                          0.009233\n",
       "exp_years                       0.009233\n",
       "date_stop                       0.009233\n",
       "time_stop                       0.009233\n",
       "stopduration                    0.009233\n",
       "stop_in_response_to_cfs         0.009233\n",
       "officer_assignment_key          0.009233\n",
       "assignment                      0.009233\n",
       "intersection                    0.940056\n",
       "address_block                   0.069906\n",
       "land_mark                       0.999965\n",
       "address_street                  0.033840\n",
       "highway_exit                    0.994086\n",
       "isschool                        0.009233\n",
       "school_name                     0.998933\n",
       "address_city                    0.009234\n",
       "beat                            0.009234\n",
       "beat_name                       0.009234\n",
       "isstudent                       0.009233\n",
       "perceived_limited_english       0.009233\n",
       "perceived_age                   0.009233\n",
       "perceived_gender                0.009517\n",
       "gender_nonconforming            0.009233\n",
       "gend                            0.009233\n",
       "gend_nc                         0.999226\n",
       "perceived_lgbt                  0.009233\n",
       "reason_for_stop                 0.009233\n",
       "reason_for_stopcode             0.074505\n",
       "reason_for_stop_code_text       0.074505\n",
       "reason_for_stop_detail          0.074471\n",
       "reason_for_stop_explanation     0.009235\n",
       "gender                          0.009517\n",
       "race                            0.009233\n",
       "disability                      0.959848\n",
       "action                          0.167694\n",
       "consented                       0.967736\n",
       "basis_for_search                0.250591\n",
       "basis_for_search_explanation    0.346610\n",
       "contraband                      0.400756\n",
       "basisforpropertyseizure         0.509654\n",
       "type_of_property_seized         0.509654\n",
       "resultkey                       0.009233\n",
       "result                          0.009233\n",
       "code                            0.279536\n",
       "resulttext                      0.279536\n",
       "unnamed: 0                      0.990767\n",
       "unnamed: 1                      0.990767\n",
       "unnamed: 2                      0.990767\n",
       "unnamed: 3                      0.990767\n",
       "unnamed: 4                      0.993451\n",
       "unnamed: 5                      0.993451\n",
       "dtype: float64"
      ]
     },
     "execution_count": 32,
     "metadata": {},
     "output_type": "execute_result"
    }
   ],
   "source": [
    "# check for duplicates\n",
    "df.isna().sum()/len(df)"
   ]
  },
  {
   "cell_type": "markdown",
   "metadata": {},
   "source": [
    "**Notes:**\n",
    "* `consented` field indicates the response by the person(s) stopped if the officer asked for consent to search (Yes/N/A) is 96% blank. Indicates that officers did not for consent?\n",
    "    \n",
    "* most did not have a perceived `disabiility` (96%)\n",
    "* what is `gender_nc` ( 2365 values of 5, rest N/A)"
   ]
  },
  {
   "cell_type": "code",
   "execution_count": 33,
   "metadata": {},
   "outputs": [],
   "source": [
    "# drop columns with > 80% missing \n",
    "columns_to_drop = ['ori', 'agency', 'intersection', 'highway_exit', 'school_name', 'gend_nc','consented', 'unnamed: 0', 'unnamed: 1',\n",
    "                    'unnamed: 2', 'unnamed: 3', 'unnamed: 4', 'unnamed: 5']\n",
    "df = df.drop(columns = columns_to_drop, axis=1)"
   ]
  },
  {
   "cell_type": "markdown",
   "metadata": {},
   "source": [
    "Reasons to drop columns: \n",
    "* `ori` = CA0371100 for all observations \n",
    "* `agency` = SD for all observations\n",
    "* all others due to high number of null observations (>80%)"
   ]
  },
  {
   "cell_type": "code",
   "execution_count": 37,
   "metadata": {},
   "outputs": [],
   "source": [
    "# export merged data to csv\n",
    "df.to_csv('sd_ripa_reports.csv', index=False)"
   ]
  }
 ],
 "metadata": {
  "kernelspec": {
   "display_name": "ADS500B",
   "language": "python",
   "name": "python3"
  },
  "language_info": {
   "codemirror_mode": {
    "name": "ipython",
    "version": 3
   },
   "file_extension": ".py",
   "mimetype": "text/x-python",
   "name": "python",
   "nbconvert_exporter": "python",
   "pygments_lexer": "ipython3",
   "version": "3.10.4"
  },
  "orig_nbformat": 4
 },
 "nbformat": 4,
 "nbformat_minor": 2
}
